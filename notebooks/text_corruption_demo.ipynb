{
 "cells": [
  {
   "cell_type": "markdown",
   "id": "c67270e8",
   "metadata": {},
   "source": [
    "# Imports"
   ]
  },
  {
   "cell_type": "code",
   "id": "26a109a0",
   "metadata": {},
   "source": "#! git clone https://github.com/ai-forever/sage.git",
   "outputs": [],
   "execution_count": null
  },
  {
   "cell_type": "code",
   "id": "75b86748",
   "metadata": {},
   "source": "#cd sage",
   "outputs": [],
   "execution_count": null
  },
  {
   "cell_type": "code",
   "id": "8d53934a",
   "metadata": {},
   "source": [
    "# change to pip install -e \".[errant]\" in case of zsh\n",
    "\n",
    "#! pip install .\n",
    "#! pip install -e .[errant]"
   ],
   "outputs": [],
   "execution_count": null
  },
  {
   "cell_type": "code",
   "id": "f534423f",
   "metadata": {},
   "source": [
    "import os\n",
    "import sage"
   ],
   "outputs": [],
   "execution_count": null
  },
  {
   "cell_type": "markdown",
   "id": "f94cedd5",
   "metadata": {},
   "source": [
    "# Statistic-based spelling corruption"
   ]
  },
  {
   "cell_type": "markdown",
   "id": "fb5e79cf",
   "metadata": {},
   "source": [
    "As a name suggests, Statistic-bases spelling corruption (SBSC) automatically\n",
    "insert errors in correct sentences based on some available statistics. \n",
    "\n",
    "In the case of SBSC, statistics are gathered from annotated parallel corpus that\n",
    "consists of correct texts and their spoiled counterparts. SBSC scans through pairs\n",
    "of texts, detects typos and errors and their corresponding positions, aggregates in \n",
    "appropriate discrete distributions and then sample from them to purposefully violate\n",
    "spelling when applied on correct sentences. \n",
    "\n",
    "More on this in our paper https://www.dialog-21.ru/media/5914/martynovnplusetal056.pdf\n",
    "\n",
    "As stated in the description, SBSC needs labeled parallel corpus, so it can\n",
    "reproduce analogous errors on new data. SBSC accepts either datasets available on \n",
    "HF hub, or stored locally in single file (`data.csv`) or in separate files (`sources.txt` and\n",
    "`corrections.txt`). \n",
    "\n",
    "API of SBSC is as flexible as one can imagine. Basically you instantiate \n",
    "object of `SBSCCorruptor` with `SBSCConfig`. `SBSCConfig` can be initialized from available dataset (HF hub or local), pre-obtained statistics or from combination of both. "
   ]
  },
  {
   "cell_type": "code",
   "id": "cd2a35c0",
   "metadata": {
    "ExecuteTime": {
     "end_time": "2024-06-27T14:22:39.568656Z",
     "start_time": "2024-06-27T14:22:39.560773Z"
    }
   },
   "source": [
    "from sage.spelling_corruption import SBSCConfig, SBSCCorruptor\n",
    "from sage.utils import DatasetsAvailable, load_available_dataset_from_hf, draw_and_save_errors_distributions_comparison_charts\n",
    "from sage.spelling_corruption.sbsc.labeler import process_mistypings"
   ],
   "outputs": [],
   "execution_count": 24
  },
  {
   "cell_type": "markdown",
   "id": "99a6b15a",
   "metadata": {},
   "source": [
    "## From HF dataset"
   ]
  },
  {
   "cell_type": "markdown",
   "id": "68b4001a",
   "metadata": {},
   "source": [
    "Easy as it sounds:\n",
    "\n",
    "1. Choose available dataset at https://huggingface.co/datasets/ai-forever/spellcheck_benchmark;\n",
    "2. Instantiate `SBSCConfig` with selected dataset name;\n",
    "3. `SBSCCorruptor` automatically loads dataset and gathers statistics from it;\n",
    "4. Now you can use `SBSCCorruptor` to insert errors in correct texts!"
   ]
  },
  {
   "cell_type": "code",
   "id": "1fd8f43f",
   "metadata": {
    "ExecuteTime": {
     "end_time": "2024-06-27T14:23:19.171142Z",
     "start_time": "2024-06-27T14:23:03.308205Z"
    }
   },
   "source": [
    "# `SBSCConfig` defaults to RUSpellRU dataset from HF hub\n",
    "\n",
    "corruptor = SBSCCorruptor.from_default_config()"
   ],
   "outputs": [
    {
     "data": {
      "text/plain": [
       "  0%|          | 0/2000 [00:00<?, ?it/s]"
      ],
      "application/vnd.jupyter.widget-view+json": {
       "version_major": 2,
       "version_minor": 0,
       "model_id": "7130d86bb38b4eeb9e9b8b9468800cb2"
      }
     },
     "metadata": {},
     "output_type": "display_data"
    }
   ],
   "execution_count": 26
  },
  {
   "cell_type": "markdown",
   "id": "a0f42bee",
   "metadata": {},
   "source": [
    "That is it really! You now can spoil the text and expect errors to be similar to those\n",
    "in RUSpellRU! But lets check this assumption out. Algorithm would be as follows:\n",
    "\n",
    "1. Load source dataset;\n",
    "2. Scan original errors and gather corresponding statistics from source dataset;\n",
    "3. Take correct sentences from source dataset and use SBSC to corrupt them;\n",
    "4. Scan generated errors and gather corresponding statistics from obtrained sentences;\n",
    "5. Compare statistics and see how close they are!"
   ]
  },
  {
   "cell_type": "code",
   "id": "007615e9",
   "metadata": {
    "ExecuteTime": {
     "end_time": "2024-06-27T14:23:38.914613Z",
     "start_time": "2024-06-27T14:23:22.103351Z"
    }
   },
   "source": [
    "# Load source dataset to see whether SBSC is able to mimic its errors.\n",
    "# But first gather original errors:\n",
    "\n",
    "sources, corrections = load_available_dataset_from_hf(\"RUSpellRU\", for_labeler=True, split=\"train\")\n",
    "ruspellru_stats, ruspellru_confusion_matrix, ruspellru_typos_cnt = process_mistypings(sources, corrections)"
   ],
   "outputs": [
    {
     "data": {
      "text/plain": [
       "  0%|          | 0/2000 [00:00<?, ?it/s]"
      ],
      "application/vnd.jupyter.widget-view+json": {
       "version_major": 2,
       "version_minor": 0,
       "model_id": "365161c6ecd94308a780921732262328"
      }
     },
     "metadata": {},
     "output_type": "display_data"
    }
   ],
   "execution_count": 27
  },
  {
   "cell_type": "code",
   "id": "9934a142",
   "metadata": {
    "ExecuteTime": {
     "end_time": "2024-06-27T14:23:41.777554Z",
     "start_time": "2024-06-27T14:23:41.411239Z"
    }
   },
   "source": [
    "# Corruptor allows both `corrupt` and `batch_corrupt` methods.\n",
    "\n",
    "# Here we corrupt correct sentences from RUSpellRU\n",
    "# to compare them with original errors afterwards. \n",
    "\n",
    "spoiled_sentences = corruptor.batch_corrupt(corrections)"
   ],
   "outputs": [
    {
     "data": {
      "text/plain": [
       "  0%|          | 0/2000 [00:00<?, ?it/s]"
      ],
      "application/vnd.jupyter.widget-view+json": {
       "version_major": 2,
       "version_minor": 0,
       "model_id": "066718342b404de18059a1177a8750a9"
      }
     },
     "metadata": {},
     "output_type": "display_data"
    }
   ],
   "execution_count": 28
  },
  {
   "cell_type": "code",
   "id": "4f57252e",
   "metadata": {
    "ExecuteTime": {
     "end_time": "2024-06-27T14:23:54.926741Z",
     "start_time": "2024-06-27T14:23:41.791060Z"
    }
   },
   "source": [
    "# Manually collect statistics\n",
    "\n",
    "sbsc_stats, sbsc_confusion_matrix, sbsc_typos_cnt = process_mistypings(spoiled_sentences, corrections)"
   ],
   "outputs": [
    {
     "data": {
      "text/plain": [
       "  0%|          | 0/2000 [00:00<?, ?it/s]"
      ],
      "application/vnd.jupyter.widget-view+json": {
       "version_major": 2,
       "version_minor": 0,
       "model_id": "10b6a6cc429740a597844dc534608f45"
      }
     },
     "metadata": {},
     "output_type": "display_data"
    }
   ],
   "execution_count": 29
  },
  {
   "cell_type": "code",
   "id": "fc86f413",
   "metadata": {},
   "source": [
    "# Lets see how good SBSC is\n",
    "\n",
    "draw_and_save_errors_distributions_comparison_charts(\n",
    "    actual_typos_cnt = sbsc_typos_cnt,\n",
    "    reference_typos_cnt=ruspellru_typos_cnt,\n",
    "    actual_stats=sbsc_stats,\n",
    "    reference_stats=ruspellru_stats,\n",
    "    path_to_save=\"ruspellru_sbsc.jpg\"\n",
    ")"
   ],
   "outputs": [],
   "execution_count": null
  },
  {
   "cell_type": "markdown",
   "id": "b6708d76",
   "metadata": {},
   "source": [
    "## From local dataset"
   ]
  },
  {
   "cell_type": "markdown",
   "id": "235d4574",
   "metadata": {},
   "source": [
    "You do the same steps as above, but you provide locally stored dataset instead. \n",
    "\n",
    "A few reminders on how to store your dataset:\n",
    "\n",
    "1. It is either two files `sources.txt` and `corrections.txt` in one folder, or one file `data.csv` with `source` and `correction` fields;\n",
    "2. Check that `sources.txt` and `corrections.txt` account for the same number of lines;\n",
    "3. Check that `data.csv` does not have any nans or empty lines;\n",
    "4. Past only path to folder, where your dataset is located, `SBSCCorruptor` automatically finds appropriate dataset;"
   ]
  },
  {
   "cell_type": "markdown",
   "id": "a4c61d38",
   "metadata": {},
   "source": [
    "Currently, SAGE can operate over the Russian and English languages. We plan to grow our SAGE (:-)) and expand the range of available languages. Do not forget to put appropriate language code when working with custom config."
   ]
  },
  {
   "cell_type": "code",
   "id": "f96ac095",
   "metadata": {},
   "source": [
    "from sage import AVAILABLE_LANG_CODES"
   ],
   "outputs": [],
   "execution_count": null
  },
  {
   "cell_type": "code",
   "id": "b8977ca9",
   "metadata": {},
   "source": [
    "AVAILABLE_LANG_CODES"
   ],
   "outputs": [],
   "execution_count": null
  },
  {
   "cell_type": "code",
   "id": "cea3b386",
   "metadata": {},
   "source": [
    "# Instantitate (make sure to stay inside sage directory or change path to reference dataset)\n",
    "\n",
    "config = SBSCConfig(\n",
    "    lang=\"rus\",\n",
    "    reference_dataset_name_or_path=os.path.join(os.getcwd(), \"data\", \"example_data\", \"RUSpellRU\")\n",
    ")\n",
    "corruptor = SBSCCorruptor.from_config(config)"
   ],
   "outputs": [],
   "execution_count": null
  },
  {
   "cell_type": "code",
   "id": "d3c78526",
   "metadata": {},
   "source": [
    "# Corrupt\n",
    "\n",
    "spoiled_sentences = corruptor.batch_corrupt(corrections)"
   ],
   "outputs": [],
   "execution_count": null
  },
  {
   "cell_type": "code",
   "id": "5c3f265d",
   "metadata": {
    "ExecuteTime": {
     "start_time": "2024-06-27T14:21:16.761234Z"
    }
   },
   "source": [
    "# Check\n",
    "\n",
    "sbsc_stats, sbsc_confusion_matrix, sbsc_typos_cnt = process_mistypings(spoiled_sentences, corrections)"
   ],
   "outputs": [],
   "execution_count": null
  },
  {
   "cell_type": "code",
   "id": "ecdd81b5",
   "metadata": {
    "ExecuteTime": {
     "start_time": "2024-06-27T14:21:54.402858Z"
    }
   },
   "source": [
    "# Lets see how good SBSC is\n",
    "\n",
    "draw_and_save_errors_distributions_comparison_charts(\n",
    "    actual_typos_cnt = sbsc_typos_cnt,\n",
    "    reference_typos_cnt=ruspellru_typos_cnt,\n",
    "    actual_stats=sbsc_stats,\n",
    "    reference_stats=ruspellru_stats,\n",
    "    path_to_save=\"ruspellru_sbsc.jpg\"\n",
    ")"
   ],
   "outputs": [],
   "execution_count": null
  },
  {
   "cell_type": "markdown",
   "id": "53d10035",
   "metadata": {},
   "source": [
    "## From obtained statistics"
   ]
  },
  {
   "cell_type": "markdown",
   "id": "4108767f",
   "metadata": {},
   "source": [
    "Algorithm is trivial as well:\n",
    "\n",
    "1. Load dataset from https://huggingface.co/datasets/ai-forever/spellcheck_benchmark or provide your own locally;\n",
    "2. Use `process_mistypings` to obtain statistics;\n",
    "3. Instantiate `SBSCConfig` with acquired statistics and initialize `SBSCCorruptor`;\n",
    "4. Now you can use SBSCCorruptor to insert errors in correct texts!"
   ]
  },
  {
   "cell_type": "code",
   "id": "2038bb94",
   "metadata": {
    "ExecuteTime": {
     "start_time": "2024-06-27T14:21:59.531911Z"
    }
   },
   "source": [
    "# Load / provide dataset and gather statistics\n",
    "\n",
    "sources, corrections = load_available_dataset_from_hf(\"RUSpellRU\", for_labeler=True, split=\"train\")\n",
    "reference_stats, reference_confusion_matrix, reference_typos_cnt = process_mistypings(sources, corrections)"
   ],
   "outputs": [],
   "execution_count": null
  },
  {
   "cell_type": "code",
   "id": "7c7c5afe",
   "metadata": {
    "ExecuteTime": {
     "start_time": "2024-06-27T14:22:35.027399Z"
    }
   },
   "source": [
    "# Instantiate\n",
    "\n",
    "config = SBSCConfig(\n",
    "    lang=\"rus\",\n",
    "    typos_count=reference_typos_cnt,\n",
    "    stats=reference_stats,\n",
    "    confusion_matrix=reference_confusion_matrix,\n",
    ")\n",
    "corruptor = SBSCCorruptor.from_config(config)"
   ],
   "outputs": [],
   "execution_count": null
  },
  {
   "cell_type": "code",
   "id": "69064846",
   "metadata": {
    "ExecuteTime": {
     "start_time": "2024-06-27T14:22:35.080375Z"
    }
   },
   "source": [
    "# Corrupt\n",
    "\n",
    "spoiled_sentences = corruptor.batch_corrupt(corrections)"
   ],
   "outputs": [],
   "execution_count": null
  },
  {
   "cell_type": "code",
   "id": "6f124fa5",
   "metadata": {
    "ExecuteTime": {
     "start_time": "2024-06-27T14:22:35.322021Z"
    }
   },
   "source": [
    "# Check\n",
    "\n",
    "sbsc_stats, sbsc_confusion_matrix, sbsc_typos_cnt = process_mistypings(spoiled_sentences, corrections)"
   ],
   "outputs": [],
   "execution_count": null
  },
  {
   "cell_type": "code",
   "id": "f3037331",
   "metadata": {
    "ExecuteTime": {
     "start_time": "2024-06-27T14:22:35.945850Z"
    }
   },
   "source": [
    "# Lets see how good SBSC is\n",
    "\n",
    "draw_and_save_errors_distributions_comparison_charts(\n",
    "    actual_typos_cnt = sbsc_typos_cnt,\n",
    "    reference_typos_cnt=reference_typos_cnt,\n",
    "    actual_stats=sbsc_stats,\n",
    "    reference_stats=reference_stats,\n",
    "    path_to_save=\"ruspellru_sbsc.jpg\"\n",
    ")"
   ],
   "outputs": [],
   "execution_count": null
  },
  {
   "cell_type": "markdown",
   "id": "9bfc9f39",
   "metadata": {},
   "source": [
    "## From both"
   ]
  },
  {
   "cell_type": "markdown",
   "id": "cf4ce7bb",
   "metadata": {},
   "source": [
    "Imagine you want to build your own errors statistics from existing blocks, but with a little bit of twist.\n",
    "\n",
    "For example, you want another distribution of number of errors per sentence, or another substitution in confusion matrix. You can do it in `SBSCCorruptor`."
   ]
  },
  {
   "cell_type": "markdown",
   "id": "2d44fabe",
   "metadata": {},
   "source": [
    "Lets say we want the same statistics from RUSpellRU, but with more errors per sentence."
   ]
  },
  {
   "cell_type": "code",
   "id": "24257848",
   "metadata": {
    "ExecuteTime": {
     "start_time": "2024-06-27T14:22:35.945850Z"
    }
   },
   "source": [
    "# Instantiate\n",
    "\n",
    "config = SBSCConfig(\n",
    "    lang=\"rus\",\n",
    "    typos_count=[10],\n",
    "    reference_dataset_name_or_path=\"RUSpellRU\",\n",
    ")\n",
    "corruptor = SBSCCorruptor.from_config(config)"
   ],
   "outputs": [],
   "execution_count": null
  },
  {
   "cell_type": "code",
   "id": "32ac7f12",
   "metadata": {
    "ExecuteTime": {
     "start_time": "2024-06-27T14:22:35.950744Z"
    }
   },
   "source": [
    "# Corrupt\n",
    "\n",
    "spoiled_sentences = corruptor.batch_corrupt(corrections)"
   ],
   "outputs": [],
   "execution_count": null
  },
  {
   "cell_type": "code",
   "id": "65a93c00",
   "metadata": {
    "ExecuteTime": {
     "start_time": "2024-06-27T14:22:35.951678Z"
    }
   },
   "source": [
    "# Check\n",
    "\n",
    "sbsc_stats, sbsc_confusion_matrix, sbsc_typos_cnt = process_mistypings(spoiled_sentences, corrections)"
   ],
   "outputs": [],
   "execution_count": null
  },
  {
   "cell_type": "code",
   "id": "75000af0",
   "metadata": {
    "ExecuteTime": {
     "start_time": "2024-06-27T14:22:35.951678Z"
    }
   },
   "source": [
    "# Lets see how good SBSC is\n",
    "\n",
    "draw_and_save_errors_distributions_comparison_charts(\n",
    "    actual_typos_cnt = sbsc_typos_cnt,\n",
    "    reference_typos_cnt=ruspellru_typos_cnt,\n",
    "    actual_stats=sbsc_stats,\n",
    "    reference_stats=ruspellru_stats,\n",
    "    path_to_save=\"ruspellru_sbsc.jpg\"\n",
    ")"
   ],
   "outputs": [],
   "execution_count": null
  },
  {
   "cell_type": "markdown",
   "id": "e7c25a8a",
   "metadata": {},
   "source": [
    "We increased number of errors, but other distributions are almost the same."
   ]
  },
  {
   "cell_type": "markdown",
   "id": "1d2627fb",
   "metadata": {},
   "source": [
    "## For English "
   ]
  },
  {
   "cell_type": "code",
   "id": "c9d50794",
   "metadata": {
    "ExecuteTime": {
     "start_time": "2024-06-27T14:22:35.951678Z"
    }
   },
   "source": [
    "# Instantiate (make sure to stay inside sage directory or change path to reference dataset)\n",
    "\n",
    "config = SBSCConfig(\n",
    "    lang=\"eng\",\n",
    "    reference_dataset_name_or_path=os.path.join(os.getcwd(), \"data\", \"example_data\", \"jfleg\")\n",
    ")\n",
    "corruptor = SBSCCorruptor.from_config(config)"
   ],
   "outputs": [],
   "execution_count": null
  },
  {
   "cell_type": "code",
   "id": "72d8c1c6",
   "metadata": {
    "ExecuteTime": {
     "start_time": "2024-06-27T14:22:35.951678Z"
    }
   },
   "source": [
    "# Load dataset (make sure to stay inside sage directory or change path to corresponding datasets)\n",
    "\n",
    "with open(os.path.join(os.getcwd(), \"data\", \"example_data\", \"jfleg\", \"corrections.txt\")) as corr_file, \\\n",
    "     open(os.path.join(os.getcwd(), \"data\", \"example_data\", \"jfleg\", \"sources.txt\")) as src_file:\n",
    "    corrections = corr_file.read().split(\"\\n\")\n",
    "    sources = src_file.read().split(\"\\n\")\n",
    "    \n",
    "corrections.pop()\n",
    "sources.pop()\n",
    "\n",
    "jfleg_stats, jfleg_confusion_matrix, jfleg_typos_cnt = process_mistypings(sources, corrections)"
   ],
   "outputs": [],
   "execution_count": null
  },
  {
   "cell_type": "code",
   "id": "4767f561",
   "metadata": {
    "ExecuteTime": {
     "start_time": "2024-06-27T14:22:35.951678Z"
    }
   },
   "source": [
    "# Corrupt\n",
    "\n",
    "spoiled_sentences = corruptor.batch_corrupt(corrections)"
   ],
   "outputs": [],
   "execution_count": null
  },
  {
   "cell_type": "code",
   "id": "975217dc",
   "metadata": {
    "ExecuteTime": {
     "start_time": "2024-06-27T14:22:35.951678Z"
    }
   },
   "source": [
    "# Check\n",
    "\n",
    "sbsc_stats, sbsc_confusion_matrix, sbsc_typos_cnt = process_mistypings(spoiled_sentences, corrections)"
   ],
   "outputs": [],
   "execution_count": null
  },
  {
   "cell_type": "code",
   "id": "01f015d8",
   "metadata": {
    "ExecuteTime": {
     "start_time": "2024-06-27T14:22:35.951678Z"
    }
   },
   "source": [
    "# Lets see how good SBSC is\n",
    "\n",
    "draw_and_save_errors_distributions_comparison_charts(\n",
    "    actual_typos_cnt = sbsc_typos_cnt,\n",
    "    reference_typos_cnt=jfleg_typos_cnt,\n",
    "    actual_stats=sbsc_stats,\n",
    "    reference_stats=jfleg_stats,\n",
    "    path_to_save=\"jfleg_sbsc.jpg\"\n",
    ")"
   ],
   "outputs": [],
   "execution_count": null
  },
  {
   "cell_type": "markdown",
   "id": "353eec17",
   "metadata": {},
   "source": [
    "# Augmentex"
   ]
  },
  {
   "cell_type": "markdown",
   "id": "dfc58a4b",
   "metadata": {},
   "source": [
    "Credit for this section goes to @Mark Baushenko and @Alexander Abramov"
   ]
  },
  {
   "cell_type": "markdown",
   "id": "d1108f14",
   "metadata": {},
   "source": [
    "Augmentex operates over most popular mistypings and common spelling errors gathered from open statistics as well as rule-based approaches and various heuristics. \n",
    "\n",
    "It offers two levels of granuality when working with text corruption:\n",
    "\n",
    "1. Character level:\n",
    "\n",
    "    a. shift - randomly swaps upper / lower case in a string;\n",
    "    \n",
    "    b. orfo - substitute correct characters with their common incorrect counterparts;\n",
    "    \n",
    "    c. typo - substitute correct characters as if they are mistyped on a keyboard;\n",
    "    \n",
    "    d. delete - delete random character;\n",
    "    \n",
    "    e. multiply - multiply random character;\n",
    "    \n",
    "    f. swap - swap two adjacent characters;\n",
    "    \n",
    "    g. insert - insert random character;\n",
    "    \n",
    "    \n",
    "2. Word level:\n",
    "    \n",
    "    a. replace - replace a random word in its incorrect counterpart;\n",
    "    \n",
    "    b. delete - delete random word;\n",
    "    \n",
    "    c. swap - swap two random words;\n",
    "    \n",
    "    d. stopword - add random words from stop-list;\n",
    "    \n",
    "    e. reverse - change a case of the first letter of a random word;\n",
    "    \n",
    "\n",
    "More about Augmentex in our paper https://www.dialog-21.ru/media/5914/martynovnplusetal056.pdf"
   ]
  },
  {
   "cell_type": "code",
   "id": "f0cba4f2",
   "metadata": {
    "ExecuteTime": {
     "start_time": "2024-06-27T14:22:35.951678Z"
    }
   },
   "source": [
    "from sage.spelling_corruption import CharAugConfig, CharAugCorruptor, WordAugConfig, WordAugCorruptor"
   ],
   "outputs": [],
   "execution_count": null
  },
  {
   "cell_type": "code",
   "id": "5ec4ecdd",
   "metadata": {
    "ExecuteTime": {
     "end_time": "2024-06-27T14:22:35.999396Z",
     "start_time": "2024-06-27T14:22:35.951678Z"
    }
   },
   "source": [
    "text = \"Привет, как дела?\""
   ],
   "outputs": [],
   "execution_count": null
  },
  {
   "cell_type": "markdown",
   "id": "2cd67a80",
   "metadata": {},
   "source": [
    "## Character level"
   ]
  },
  {
   "cell_type": "code",
   "id": "ffda0d9e",
   "metadata": {
    "ExecuteTime": {
     "start_time": "2024-06-27T14:22:35.951678Z"
    }
   },
   "source": [
    "# Instantiate\n",
    "\n",
    "config = CharAugConfig(\n",
    "    unit_prob=0.3, # proportion of characters that is going to undergo edits\n",
    "    min_aug=1, # minimum number of edits\n",
    "    max_aug=5, # maximum number of edits \n",
    "    mult_num=3 # `multiply` edit\n",
    ")\n",
    "corruptor = CharAugCorruptor.from_config(config)"
   ],
   "outputs": [],
   "execution_count": null
  },
  {
   "cell_type": "code",
   "id": "b16b626f",
   "metadata": {
    "ExecuteTime": {
     "start_time": "2024-06-27T14:22:35.951678Z"
    }
   },
   "source": [
    "# Random edit\n",
    "\n",
    "corruptor.corrupt(text)"
   ],
   "outputs": [],
   "execution_count": null
  },
  {
   "cell_type": "code",
   "id": "a0415a5b",
   "metadata": {
    "ExecuteTime": {
     "start_time": "2024-06-27T14:22:35.951678Z"
    }
   },
   "source": [
    "# Shift\n",
    "\n",
    "corruptor.corrupt(text, action=\"shift\")"
   ],
   "outputs": [],
   "execution_count": null
  },
  {
   "cell_type": "code",
   "id": "76ed19cc",
   "metadata": {
    "ExecuteTime": {
     "start_time": "2024-06-27T14:22:35.951678Z"
    }
   },
   "source": [
    "# Orfo\n",
    "\n",
    "corruptor.corrupt(text, action=\"orfo\")"
   ],
   "outputs": [],
   "execution_count": null
  },
  {
   "cell_type": "code",
   "id": "4551c20d",
   "metadata": {
    "ExecuteTime": {
     "start_time": "2024-06-27T14:22:35.951678Z"
    }
   },
   "source": [
    "# Typo\n",
    "\n",
    "corruptor.corrupt(text, action=\"typo\")"
   ],
   "outputs": [],
   "execution_count": null
  },
  {
   "cell_type": "code",
   "id": "0d7d9b8e",
   "metadata": {
    "ExecuteTime": {
     "start_time": "2024-06-27T14:22:35.951678Z"
    }
   },
   "source": [
    "# Delete\n",
    "\n",
    "corruptor.corrupt(text, action=\"delete\")"
   ],
   "outputs": [],
   "execution_count": null
  },
  {
   "cell_type": "code",
   "id": "bf85c74d",
   "metadata": {
    "ExecuteTime": {
     "start_time": "2024-06-27T14:22:35.951678Z"
    }
   },
   "source": [
    "# Multiply\n",
    "\n",
    "corruptor.corrupt(text, action=\"multiply\")"
   ],
   "outputs": [],
   "execution_count": null
  },
  {
   "cell_type": "code",
   "id": "b1e36978",
   "metadata": {
    "ExecuteTime": {
     "start_time": "2024-06-27T14:22:35.951678Z"
    }
   },
   "source": [
    "# Swap\n",
    "\n",
    "corruptor.corrupt(text, action=\"swap\")"
   ],
   "outputs": [],
   "execution_count": null
  },
  {
   "cell_type": "code",
   "id": "854707c2",
   "metadata": {
    "ExecuteTime": {
     "start_time": "2024-06-27T14:22:35.951678Z"
    }
   },
   "source": [
    "# Insert\n",
    "\n",
    "corruptor.corrupt(text, action=\"insert\")"
   ],
   "outputs": [],
   "execution_count": null
  },
  {
   "cell_type": "code",
   "id": "c7af5d04",
   "metadata": {
    "ExecuteTime": {
     "start_time": "2024-06-27T14:22:35.951678Z"
    }
   },
   "source": [
    "# Edits over batch of samples. `batch_prob` represents the proportion of samples in batch\n",
    "# that is going to undergo edits.\n",
    "\n",
    "text_list = [text] * 10\n",
    "corruptor.batch_corrupt(text_list, action=\"insert\", batch_prob=0.5)"
   ],
   "outputs": [],
   "execution_count": null
  },
  {
   "cell_type": "markdown",
   "id": "33ef1330",
   "metadata": {},
   "source": [
    "## Word level"
   ]
  },
  {
   "cell_type": "code",
   "id": "c8adff74",
   "metadata": {
    "ExecuteTime": {
     "start_time": "2024-06-27T14:22:35.951678Z"
    }
   },
   "source": [
    "# Instantiate\n",
    "\n",
    "config = WordAugConfig(\n",
    "    unit_prob=0.4, # proportion of characters that is going to undergo edits\n",
    "    min_aug=1, # minimum number of edits\n",
    "    max_aug=5, # maximum number of edits \n",
    ")\n",
    "corruptor = WordAugCorruptor.from_config(config)"
   ],
   "outputs": [],
   "execution_count": null
  },
  {
   "cell_type": "code",
   "id": "230b94ea",
   "metadata": {
    "ExecuteTime": {
     "start_time": "2024-06-27T14:22:35.951678Z"
    }
   },
   "source": [
    "# Random action\n",
    "\n",
    "corruptor.corrupt(text)"
   ],
   "outputs": [],
   "execution_count": null
  },
  {
   "cell_type": "code",
   "id": "e5377f86",
   "metadata": {
    "ExecuteTime": {
     "start_time": "2024-06-27T14:22:35.951678Z"
    }
   },
   "source": [
    "# Replace\n",
    "\n",
    "corruptor.corrupt(text, action=\"replace\")"
   ],
   "outputs": [],
   "execution_count": null
  },
  {
   "cell_type": "code",
   "id": "487e88d7",
   "metadata": {
    "ExecuteTime": {
     "start_time": "2024-06-27T14:22:35.951678Z"
    }
   },
   "source": [
    "# Delete\n",
    "\n",
    "corruptor.corrupt(text, action=\"delete\")"
   ],
   "outputs": [],
   "execution_count": null
  },
  {
   "cell_type": "code",
   "id": "626eadd9",
   "metadata": {
    "ExecuteTime": {
     "start_time": "2024-06-27T14:22:35.951678Z"
    }
   },
   "source": [
    "# Swap \n",
    "\n",
    "corruptor.corrupt(text, action=\"swap\")"
   ],
   "outputs": [],
   "execution_count": null
  },
  {
   "cell_type": "code",
   "id": "e6440c85",
   "metadata": {
    "ExecuteTime": {
     "start_time": "2024-06-27T14:22:35.967326Z"
    }
   },
   "source": [
    "# Stopword \n",
    "\n",
    "corruptor.corrupt(text, action=\"stopword\")"
   ],
   "outputs": [],
   "execution_count": null
  },
  {
   "cell_type": "code",
   "id": "9bb3ab00",
   "metadata": {
    "ExecuteTime": {
     "start_time": "2024-06-27T14:22:35.967326Z"
    }
   },
   "source": [
    "# Reverse \n",
    "\n",
    "corruptor.corrupt(text, action=\"reverse\")"
   ],
   "outputs": [],
   "execution_count": null
  },
  {
   "cell_type": "code",
   "id": "a7ed3de7",
   "metadata": {
    "ExecuteTime": {
     "start_time": "2024-06-27T14:22:35.967326Z"
    }
   },
   "source": [
    "# Edits over batch of samples. `batch_prob` represents the proportion of samples in batch\n",
    "# that is going to undergo edits.\n",
    "\n",
    "text_list = [text] * 10\n",
    "corruptor.batch_corrupt(text_list, action=\"stopword\", batch_prob=0.5)"
   ],
   "outputs": [],
   "execution_count": null
  },
  {
   "cell_type": "code",
   "id": "1f66146c",
   "metadata": {
    "ExecuteTime": {
     "start_time": "2024-06-27T14:22:35.967326Z"
    }
   },
   "source": [],
   "outputs": [],
   "execution_count": null
  }
 ],
 "metadata": {
  "kernelspec": {
   "display_name": "Python 3 (ipykernel)",
   "language": "python",
   "name": "python3"
  },
  "language_info": {
   "codemirror_mode": {
    "name": "ipython",
    "version": 3
   },
   "file_extension": ".py",
   "mimetype": "text/x-python",
   "name": "python",
   "nbconvert_exporter": "python",
   "pygments_lexer": "ipython3",
   "version": "3.9.6"
  }
 },
 "nbformat": 4,
 "nbformat_minor": 5
}
